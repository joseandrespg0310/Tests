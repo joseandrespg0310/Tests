{
 "cells": [
  {
   "cell_type": "code",
   "execution_count": null,
   "metadata": {},
   "outputs": [],
   "source": []
  },
  {
   "cell_type": "markdown",
   "metadata": {},
   "source": [
    "# No Parametricos\n",
    "## Test Chi-Cuadrado"
   ]
  },
  {
   "cell_type": "code",
   "execution_count": 1,
   "metadata": {},
   "outputs": [],
   "source": [
    "# Los 200 empleados compañia tienen fomracion pimaria ,secundaria y univesitaria y posgradual\n",
    "# su desempeño se clasifica en promedio y extraordinario\n",
    "import numpy as np\n",
    "from scipy.stats import chi2_contingency"
   ]
  },
  {
   "cell_type": "code",
   "execution_count": 2,
   "metadata": {},
   "outputs": [],
   "source": [
    "# Crear un vector de empleados de desempeño promedio formacion, primaria ,secundaria, univerisria..\n",
    "promedio=[20,16,13,7]\n",
    "# Vector deempeño extraordinario\n",
    "extraordinario=[31,40,50,13]\n"
   ]
  },
  {
   "cell_type": "code",
   "execution_count": null,
   "metadata": {},
   "outputs": [
    {
     "name": "stdout",
     "output_type": "stream",
     "text": [
      "[[20, 16, 13, 7], [31, 40, 50, 13]]\n"
     ]
    }
   ],
   "source": [
    "#Tabla contingencia\n",
    "contigency_table=[promedio,extraordinario]\n",
    "print(contigency_table)"
   ]
  },
  {
   "cell_type": "code",
   "execution_count": 5,
   "metadata": {},
   "outputs": [
    {
     "ename": "NameError",
     "evalue": "name 'contigency_table' is not defined",
     "output_type": "error",
     "traceback": [
      "\u001b[1;31m---------------------------------------------------------------------------\u001b[0m",
      "\u001b[1;31mNameError\u001b[0m                                 Traceback (most recent call last)",
      "Cell \u001b[1;32mIn[5], line 4\u001b[0m\n\u001b[0;32m      1\u001b[0m \u001b[38;5;66;03m#Aplicando Chi Cuadraoo\u001b[39;00m\n\u001b[0;32m      2\u001b[0m \u001b[38;5;66;03m# Hipotesis el nivel de formacion NULA h0\u001b[39;00m\n\u001b[0;32m      3\u001b[0m \u001b[38;5;66;03m# Hipotesis Alternah ha\u001b[39;00m\n\u001b[1;32m----> 4\u001b[0m stat,p,fo,fe \u001b[38;5;241m=\u001b[39m chi2_contingency(\u001b[43mcontigency_table\u001b[49m)\n\u001b[0;32m      5\u001b[0m \u001b[38;5;28mprint\u001b[39m(\u001b[38;5;124m\"\u001b[39m\u001b[38;5;124mp valor:\u001b[39m\u001b[38;5;124m\"\u001b[39m,p)\n\u001b[0;32m      6\u001b[0m \u001b[38;5;66;03m# 0,05 o 5% es el nivel de significancia\u001b[39;00m\n",
      "\u001b[1;31mNameError\u001b[0m: name 'contigency_table' is not defined"
     ]
    }
   ],
   "source": [
    "#Aplicando Chi Cuadraoo\n",
    "# Hipotesis el nivel de formacion NULA h0\n",
    "# Hipotesis Alternah ha\n",
    "stat,p,fo,fe = chi2_contingency(contigency_table)\n",
    "print(\"p valor:\",p)\n",
    "# 0,05 o 5% es el nivel de significancia\n",
    "if (p<0.05):\n",
    "    print(\"Hipotesis Rechazada\")\n",
    "else:\n",
    "    print(\"Hipotesis Aceptada\")"
   ]
  },
  {
   "cell_type": "markdown",
   "metadata": {},
   "source": [
    "# TEST DE MANN-WHITNEY"
   ]
  },
  {
   "cell_type": "code",
   "execution_count": 9,
   "metadata": {},
   "outputs": [],
   "source": [
    "import numpy as np\n",
    "from scipy.stats import mannwhitneyu"
   ]
  },
  {
   "cell_type": "code",
   "execution_count": 10,
   "metadata": {},
   "outputs": [
    {
     "name": "stdout",
     "output_type": "stream",
     "text": [
      "p valor:  0.9130587882102074\n",
      "Hipótesis Aceptada\n"
     ]
    }
   ],
   "source": [
    "\n",
    "\n",
    "# Define muestras de datos de la percepción del rendimiento\n",
    "# Muestra 1\n",
    "datos1 = [8, 7, 7, 6, 7]\n",
    "# Muestra 2\n",
    "datos2 = [5, 8, 4, 8, 7]\n",
    "\n",
    "# Aplica test de Mann - Whitney con un nivel de confianza del 99%\n",
    "# Hipótesis Nula H0: No existe diferencia entre las distribuciones\n",
    "# Hipótesis Alterna Ha: Existe diferencia entre las distribuciones\n",
    "stat, p = mannwhitneyu(datos1, datos2)\n",
    "print(\"p valor: \", p)\n",
    "\n",
    "# 0.01 ó 1% de nivel de significancia\n",
    "if p < 0.01:\n",
    "    print(\"Hipótesis Rechazada\")\n",
    "else:\n",
    "    print(\"Hipótesis Aceptada\")\n",
    "\n",
    "\n"
   ]
  },
  {
   "cell_type": "markdown",
   "metadata": {},
   "source": [
    "# Test de Wilconxon"
   ]
  },
  {
   "cell_type": "code",
   "execution_count": 13,
   "metadata": {},
   "outputs": [
    {
     "name": "stdout",
     "output_type": "stream",
     "text": [
      "p valor:  0.4375\n",
      "Hipótesis Aceptada\n"
     ]
    }
   ],
   "source": [
    "# Define autoevaluación de rendimiento académico en las dos últimas gestiones\n",
    "from scipy.stats import wilcoxon\n",
    "# Muestra 1\n",
    "datos1 = [8.3, 7.7, 7.5, 7.7, 7.7]\n",
    "# Muestra 2\n",
    "datos2 = [8, 8, 8, 8.2, 7.5]\n",
    "\n",
    "# Aplica test de Wilcoxon con un nivel de confianza del 99%\n",
    "# Hipótesis Nula H0: No existe diferencia entre las valoraciones del rendimiento\n",
    "# Hipótesis Alterna Ha: Existe diferencia entre las valoraciones del rendimiento\n",
    "stat, p = wilcoxon(datos1, datos2)\n",
    "print(\"p valor: \", p)\n",
    "\n",
    "# 0.01 o 1% de nivel de significancia\n",
    "if p < 0.01:\n",
    "    print(\"Hipótesis Rechazada\")\n",
    "else:\n",
    "    print(\"Hipótesis Aceptada\")\n"
   ]
  },
  {
   "cell_type": "markdown",
   "metadata": {},
   "source": [
    "# Test de Kruskal-Wails"
   ]
  },
  {
   "cell_type": "code",
   "execution_count": 14,
   "metadata": {},
   "outputs": [
    {
     "name": "stdout",
     "output_type": "stream",
     "text": [
      "p valor:  0.09237584393578045\n",
      "Hipótesis Aceptada\n"
     ]
    }
   ],
   "source": [
    "from scipy.stats import kruskal\n",
    "# Datos de la muestra 1\n",
    "x = [30, 30, 30, 30, 25, 50, 20]\n",
    "# Datos de la muestra 2\n",
    "y = [18, 52, 10, 60, 10, 10, 15]\n",
    "# Datos de la muestra 3\n",
    "z = [35, 5, 7, 25, 15, 11, 14]\n",
    "\n",
    "# Aplica test de Kruskal - Wallis con un nivel de confianza del 99%\n",
    "# Hipótesis Nula H0: No existe diferencias significativas en las muestras\n",
    "# Hipótesis Alterna Ha: Existe diferencias significativas en las muestras\n",
    "stat, p = kruskal(x, y, z)\n",
    "print(\"p valor: \", p)\n",
    "\n",
    "# 0.01 o 1% es el nivel de significancia\n",
    "if p < 0.01:\n",
    "    print(\"Hipótesis Rechazada\")\n",
    "else:\n",
    "    print(\"Hipótesis Aceptada\")\n"
   ]
  },
  {
   "cell_type": "code",
   "execution_count": null,
   "metadata": {},
   "outputs": [],
   "source": []
  }
 ],
 "metadata": {
  "kernelspec": {
   "display_name": ".venv",
   "language": "python",
   "name": "python3"
  },
  "language_info": {
   "codemirror_mode": {
    "name": "ipython",
    "version": 3
   },
   "file_extension": ".py",
   "mimetype": "text/x-python",
   "name": "python",
   "nbconvert_exporter": "python",
   "pygments_lexer": "ipython3",
   "version": "3.10.2"
  }
 },
 "nbformat": 4,
 "nbformat_minor": 2
}
